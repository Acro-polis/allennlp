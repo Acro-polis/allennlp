{
 "cells": [
  {
   "cell_type": "code",
   "execution_count": 1,
   "metadata": {},
   "outputs": [
    {
     "name": "stdout",
     "output_type": "stream",
     "text": [
      "Better speed can be achieved with apex installed from https://www.github.com/nvidia/apex.\n"
     ]
    }
   ],
   "source": [
    "%reload_ext autoreload\n",
    "%autoreload 2\n",
    "\n",
    "csqa_directory=\"/home/ubuntu/Desktop/CSQA_v9/train\" \n",
    "wikidata_directory=\"/home/ubuntu/Desktop/wikidata\"\n",
    "\n",
    "import sys\n",
    "import os\n",
    "import time\n",
    "import argparse\n",
    "from collections import defaultdict\n",
    "sys.path.insert(0, os.path.dirname(os.path.dirname(os.path.abspath(os.path.join(os.path.abspath(''), os.pardir)))))\n",
    "\n",
    "from allennlp.common.testing.test_case import AllenNlpTestCase\n",
    "from allennlp.common import Params\n",
    "from allennlp.data.dataset_readers.semantic_parsing.csqa.csqa import CSQADatasetReader\n",
    "from allennlp.state_machines.states.grammar_statelet import GrammarStatelet\n",
    "from allennlp.state_machines.states.grammar_based_search_state import GrammarBasedSearchState\n",
    "from allennlp.semparse.domain_languages.csqa_language import CSQALanguage\n",
    "from allennlp.semparse.domain_languages.csqa_language import Entity, Predicate\n",
    "from allennlp.semparse.domain_languages import START_SYMBOL\n",
    "\n"
   ]
  },
  {
   "cell_type": "code",
   "execution_count": 2,
   "metadata": {},
   "outputs": [
    {
     "name": "stderr",
     "output_type": "stream",
     "text": [
      "\r",
      "0it [00:00, ?it/s]"
     ]
    },
    {
     "name": "stdout",
     "output_type": "stream",
     "text": [
      "Loading wikidata graph\n",
      "Loading wikidata type graph\n"
     ]
    },
    {
     "name": "stderr",
     "output_type": "stream",
     "text": [
      "Your label namespace was 'denotations'. We recommend you use a namespace ending with 'labels' or 'tags', so we don't add UNK and PAD tokens by default to your vocabulary.  See documentation for `non_padded_namespaces` parameter in Vocabulary.\n",
      "16it [01:23,  5.21s/it]\n"
     ]
    }
   ],
   "source": [
    "\n",
    "params = {'lazy': False,\n",
    "          # 'kg_path':  f'{AllenNlpTestCase.FIXTURES_ROOT}/data/csqa/sample_kg.p',\n",
    "          'kg_path':  f'{wikidata_directory}/wikidata_short_1_2_full.p',\n",
    "          # 'kg_type_datapath':  f'{wikidata_directory}/child_all_parents_till_5_levels_full.p',\n",
    "          'kg_type_data_path':  f'{wikidata_directory}/par_child_dict_full.p',\n",
    "          'entity_id2string_path':  f'{AllenNlpTestCase.FIXTURES_ROOT}/data/csqa/sample_entity_id2string.json',\n",
    "          'predicate_id2string_path': f'{AllenNlpTestCase.FIXTURES_ROOT}/data/csqa/filtered_property_wikidata4.json'\n",
    "         }\n",
    "\n",
    "\n",
    "reader = CSQADatasetReader.from_params(Params(params))\n",
    "qa_path = f'{AllenNlpTestCase.FIXTURES_ROOT}/data/csqa/sample_qa.json'\n",
    "dataset = reader.read(qa_path)\n",
    "# print_instance_info = True\n",
    "print_instance_info = False\n",
    "logical_forms_found = 0"
   ]
  },
  {
   "cell_type": "code",
   "execution_count": 8,
   "metadata": {},
   "outputs": [
    {
     "data": {
      "text/plain": [
       "{735: [2827747, 2827747],\n",
       " 725: [109430, 266670, 109430],\n",
       " 1441: [185143],\n",
       " 170: [313945, 313945],\n",
       " 21: [6581072, 6581072],\n",
       " 31: [15632617],\n",
       " -674: [185143]}"
      ]
     },
     "execution_count": 8,
     "metadata": {},
     "output_type": "execute_result"
    }
   ],
   "source": [
    "#language.kg_context.entity_id2string['Q18636161']\n",
    "language.kg_data[1148698]"
   ]
  },
  {
   "cell_type": "code",
   "execution_count": 9,
   "metadata": {},
   "outputs": [
    {
     "name": "stdout",
     "output_type": "stream",
     "text": [
      "question: [which, fictional, characters, had, their, voice, dubbing, done, by, atmost, 3, people, ?]\n",
      "question entities []\n",
      "len query result 29\n",
      "len expected result 39\n",
      "{Entity(name='Q1529229', id=1529229), Entity(name='Q21837905', id=21837905), Entity(name='Q21847055', id=21847055), Entity(name='Q247120', id=247120), Entity(name='Q2442950', id=2442950), Entity(name='Q7810', id=7810), Entity(name='Q2725247', id=2725247), Entity(name='Q21847215', id=21847215), Entity(name='Q21847105', id=21847105), Entity(name='Q21847089', id=21847089), Entity(name='Q551327', id=551327), Entity(name='Q21847103', id=21847103), Entity(name='Q21837832', id=21837832), Entity(name='Q2570349', id=2570349), Entity(name='Q605125', id=605125), Entity(name='Q21847086', id=21847086), Entity(name='Q21847115', id=21847115), Entity(name='Q3498590', id=3498590), Entity(name='Q28465', id=28465), Entity(name='Q15710873', id=15710873), Entity(name='Q1984009', id=1984009), Entity(name='Q1621656', id=1621656), Entity(name='Q5846', id=5846), Entity(name='Q3838346', id=3838346), Entity(name='Q8139731', id=8139731), Entity(name='Q308950', id=308950), Entity(name='Q16027672', id=16027672), Entity(name='Q7828', id=7828), Entity(name='Q27493503', id=27493503)}\n",
      "len query intersect expected result 29\n",
      "len expected res diff query result 10\n",
      "expected res diff query result {Entity(name='Q3256697', id=3256697), Entity(name='Q11623287', id=11623287), Entity(name='Q21847058', id=21847058), Entity(name='Q21837021', id=21837021), Entity(name='Q17349786', id=17349786), Entity(name='Q21837038', id=21837038), Entity(name='Q21837027', id=21837027), Entity(name='Q21837397', id=21837397), Entity(name='Q2544561', id=2544561), Entity(name='Q21847074', id=21847074)}\n",
      "len query result difference expected result 0\n",
      "False\n"
     ]
    }
   ],
   "source": [
    "print_debug_info = True\n",
    "\n",
    "logical_forms = [\"(find (get Q12122755) P495)\",\n",
    "                 \"(union (find (get Q18577469) P710) (find (get Q12122755) P161))\",\n",
    "                 \"(count (find (get Q18643299) P551))\",\n",
    "                 \"(less (find (get Q6619679) P-1) P725 (count (find (get Q11609133) P725)))\",\n",
    "                 \"(intersection (find (get Q18636161) P-710) (find (get Q18638257) P-710))\",\n",
    "                 \"(intersection (find (get Q6581097) P-21) (find (get Q4608649) P-1344))\",\n",
    "                 \"(most (find (get Q95074) P-1) P725 3)\"\n",
    "                 ]\n",
    "\n",
    "# for instance in dataset[0:5]:\n",
    "\n",
    "for i, instance in enumerate(dataset[0:10]):\n",
    "    instance = dataset[i]\n",
    "    instance_start_time = time.time()\n",
    "\n",
    "    question: str = instance['question'].tokens\n",
    "    language: CSQALanguage = instance['world'].metadata\n",
    "    expected_result = instance['expected_result'].metadata\n",
    "    predicates = instance['question_predicates'].metadata\n",
    "\n",
    "\n",
    "    if i != 6Untitled:\n",
    "        continue\n",
    "\n",
    "    print(\"question: {}\".format(question))\n",
    "    print(\"question entities {}\".format(language._question_entities))\n",
    "\n",
    "    # logical_form = logical_forms[i]\n",
    "    # logical_form = \"(find (get Q6619679) P-1)\"\n",
    "    # logical_form = \"(count (find (get Q11609133) P725))\"\n",
    "\n",
    "    # logical_form = \"(larger (find (get Q502895) P-1) P1344 0)\"\n",
    "    # logical_form = \"(find (get Q502895) P-1)\"\n",
    "    # logical_form = \"(find (get Q4608649) P-1344)\"\n",
    "    logical_form = logical_forms[i]\n",
    "    \n",
    "#     logical_form = \"(most (find (get Q95074) P-1) P725 3)\"\n",
    "    \n",
    "    # logical_form = \"(equal (find (get Q95074) P-1) P725 0)\"\n",
    "    # logical_form = \"(find (get Q95074) P-1)\"\n",
    "    # logical_form = \"(intersection (find (get Q6581097) P-21) (find (get Q4608649) P-1344))\"\n",
    "    query_result = language.execute(logical_form)\n",
    "    query_result = set(query_result) if isinstance(query_result, list) else query_result\n",
    "#     print(query_result)\n",
    "    if print_debug_info:\n",
    "        if isinstance(expected_result, (list,set)):\n",
    "            #TODO check comp_wikidata_rev\n",
    "        #     print(list(query_result)[:10])\n",
    "            print(\"len query result {}\".format(len(query_result)))\n",
    "            print(\"len expected result {}\".format(len(expected_result)))\n",
    "\n",
    "            print(query_result.intersection(expected_result))\n",
    "            print(\"len query intersect expected result {}\".format(len(query_result.intersection(expected_result))))\n",
    "            print(\"len expected res diff query result {}\".format(len(expected_result.difference(query_result))))\n",
    "            print(\"expected res diff query result {}\".format(expected_result.difference(query_result)))\n",
    "            print(\"len query result difference expected result {}\".format(len(query_result.difference(expected_result))))\n",
    "    print(query_result == expected_result)"
   ]
  },
  {
   "cell_type": "code",
   "execution_count": null,
   "metadata": {},
   "outputs": [],
   "source": []
  },
  {
   "cell_type": "code",
   "execution_count": null,
   "metadata": {},
   "outputs": [],
   "source": []
  }
 ],
 "metadata": {
  "kernelspec": {
   "display_name": "Python 3",
   "language": "python",
   "name": "python3"
  }
 },
 "nbformat": 4,
 "nbformat_minor": 2
}
